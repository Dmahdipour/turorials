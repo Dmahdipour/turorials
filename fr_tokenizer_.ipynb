{
 "cells": [
  {
   "cell_type": "code",
   "execution_count": 1,
   "metadata": {},
   "outputs": [],
   "source": [
    "import glob\n",
    "import operator\n",
    "from tqdm import tqdm\n",
    "import re"
   ]
  },
  {
   "cell_type": "code",
   "execution_count": 2,
   "metadata": {},
   "outputs": [],
   "source": [
    "normalizing_dic = {\n",
    "    'ي' : 'ی',\n",
    "    'ي' : 'ی',\n",
    "    'ئ' : 'ی',\n",
    "    'ي' : 'ی',\n",
    "    'ﯤ' : 'ی',\n",
    "    'ة' : 'ه',\n",
    "    'ﻙ' : 'ک',\n",
    "    'ﻚ' : 'ک',\n",
    "    'ؤ' : 'و',\n",
    "    'أ' : 'ا',\n",
    "    'إ' : 'ا',\n",
    "    'ٱ' : 'ا',    \n",
    "    'ء' : '',\n",
    "    'آ' : 'ا',\n",
    "    'ِ' : '',\n",
    "    '' : '',\n",
    "    'َ' : '',\n",
    "    'ٍ' : '',\n",
    "    'ٌ' : '',\n",
    "    'ً' : '',\n",
    "    'ّ' : '',\n",
    "    'ـ' : '',\n",
    "    '{' : ' { ',\n",
    "    '}' : ' } ',\n",
    "    '[' : ' [ ',\n",
    "    ']' : ' ] ',\n",
    "    '(' : ' ( ',\n",
    "    ')' : ' ) ',\n",
    "    ',' : '،',\n",
    "    ';' : '؛',\n",
    "    '«' : ' « ',\n",
    "    '»' : ' » ',\n",
    "    '\\u200e' : ' ',\n",
    "    '\\u200c' : ' ',\n",
    "    '‌' : ' ',\n",
    "    ':' : ':',\n",
    "    ':' : ' : ',\n",
    "    '!' : ' ! ',\n",
    "    '?' : ' ? ',\n",
    "    '؟' : ' ؟ ',\n",
    "    '،' : ' ، ',\n",
    "    '؛' : ' ؛ ',\n",
    "    '/' : ' / ',\n",
    "    '\\\\' : ' \\\\ ',\n",
    "    '-' : ' ',\n",
    "    '\"' : ' \" ',\n",
    "    \"'\" : \" ' \",\n",
    "    '..' : '.',\n",
    "    '.' : ' . ',\n",
    "    '\\n' : ' ',\n",
    "    '\\r' : ' ',\n",
    "    '\\t' : ' ',\n",
    "    '\\f' : ' ',\n",
    "    '\\v' : ' ',\n",
    "    '  ' : ' '\n",
    "}\n",
    "\n",
    "def my_normalizing(unormـText, nm_dic):\n",
    "    for key in tqdm(nm_dic):\n",
    "        unormـText = unormـText.replace(key, nm_dic[key])\n",
    "\n",
    "        unormـText = re.sub(r'([a-zA-Z]*)(\\d+)([a-zA-Z]*)', r'\\1 \\2 \\3', unormـText)\n",
    "\n",
    "        unormـText = re.sub(r'([\\W\\d\\s]*)([ن][م][ی])([\\s]+)([\\w])', r'\\1\\2\\4', unormـText)\n",
    "        unormـText = re.sub(r'([\\W\\d\\s]+)([م][ی])([\\s]+)([\\w])', r'\\1\\2\\4', unormـText)\n",
    "\n",
    "        unormـText = re.sub(r'([ه][ا][ی])([\\W\\d\\s]+)', r' \\1\\2', unormـText)\n",
    "        unormـText = re.sub(r'([ه][ا][ی]$)', r' \\1', unormـText)\n",
    "        unormـText = re.sub(r'([ه][ا])([\\W\\d\\s]+)', r' \\1\\2', unormـText)\n",
    "        unormـText = re.sub(r'([ه][ا]$)', r' \\1', unormـText)\n",
    "\n",
    "        unormـText = re.sub(r'([\\s])([ی])([\\W\\d\\s]+)', r' \\3', unormـText)\n",
    "\n",
    "    \n",
    "    return unormـText"
   ]
  },
  {
   "cell_type": "code",
   "execution_count": 3,
   "metadata": {},
   "outputs": [],
   "source": [
    "def my_word_tokenize(wordTokenize):\n",
    "    wt = wordTokenize.split(\" \")\n",
    "    #wt = re.split(r'(\\W+)', wordTokenize)\n",
    "    return wt"
   ]
  },
  {
   "cell_type": "code",
   "execution_count": 4,
   "metadata": {},
   "outputs": [],
   "source": [
    "def my_indexed_dic(wordTokenize):\n",
    "    for wordTkn in tqdm(wordTokenize):\n",
    "        if wordTkn in dic:\n",
    "            wordTknCount=dic.get(wordTkn)\n",
    "            dic.update({wordTkn:wordTknCount+1})\n",
    "        else:\n",
    "            dic[wordTkn]=1\n",
    "    return dic"
   ]
  },
  {
   "cell_type": "code",
   "execution_count": 5,
   "metadata": {},
   "outputs": [],
   "source": [
    "myPath=\"/Volumes/macOs/Users/dmy/Documents/AhrarNews\"\n",
    "txtFileList=glob.glob(f'{myPath}/*.txt')"
   ]
  },
  {
   "cell_type": "code",
   "execution_count": 6,
   "metadata": {},
   "outputs": [
    {
     "name": "stderr",
     "output_type": "stream",
     "text": [
      "0it [00:00, ?it/s]\n"
     ]
    }
   ],
   "source": [
    "fileContent=\"\"\n",
    "for fileNum in tqdm(range(len(txtFileList))):\n",
    "    txtFiles = open(txtFileList[fileNum], encoding = \"UTF-8\")\n",
    "    fileContent = fileContent + txtFiles.read()  \n",
    "    "
   ]
  },
  {
   "cell_type": "code",
   "execution_count": 7,
   "metadata": {},
   "outputs": [
    {
     "name": "stderr",
     "output_type": "stream",
     "text": [
      "100%|██████████| 51/51 [00:00<00:00, 9032.58it/s]\n"
     ]
    }
   ],
   "source": [
    "wordNormalize = my_normalizing(fileContent, normalizing_dic)"
   ]
  },
  {
   "cell_type": "code",
   "execution_count": 8,
   "metadata": {},
   "outputs": [],
   "source": [
    "wordTokenize = my_word_tokenize(wordNormalize)"
   ]
  },
  {
   "cell_type": "code",
   "execution_count": 9,
   "metadata": {},
   "outputs": [
    {
     "name": "stderr",
     "output_type": "stream",
     "text": [
      "100%|██████████| 1/1 [00:00<00:00, 1210.48it/s]\n"
     ]
    }
   ],
   "source": [
    "dic = {}\n",
    "dic = my_indexed_dic(wordTokenize)"
   ]
  },
  {
   "cell_type": "code",
   "execution_count": 10,
   "metadata": {},
   "outputs": [],
   "source": [
    "sorted_dic = sorted(dic.items(), key=operator.itemgetter(0))\n",
    "#sorted_dic.reverse()"
   ]
  },
  {
   "cell_type": "code",
   "execution_count": 11,
   "metadata": {},
   "outputs": [
    {
     "name": "stdout",
     "output_type": "stream",
     "text": [
      "[('', 1)]\n"
     ]
    }
   ],
   "source": [
    "print(sorted_dic)"
   ]
  },
  {
   "cell_type": "code",
   "execution_count": 12,
   "metadata": {},
   "outputs": [
    {
     "ename": "FileNotFoundError",
     "evalue": "[Errno 2] No such file or directory: '/Volumes/macOs/Users/dmy/Documents/AhrarNews/0_myIndexList.res'",
     "output_type": "error",
     "traceback": [
      "\u001b[0;31m---------------------------------------------------------------------------\u001b[0m",
      "\u001b[0;31mFileNotFoundError\u001b[0m                         Traceback (most recent call last)",
      "\u001b[0;32m<ipython-input-12-1bdd7e3fa0eb>\u001b[0m in \u001b[0;36m<module>\u001b[0;34m()\u001b[0m\n\u001b[0;32m----> 1\u001b[0;31m \u001b[0mfileOpen\u001b[0m\u001b[0;34m=\u001b[0m \u001b[0mopen\u001b[0m\u001b[0;34m(\u001b[0m\u001b[0mmyPath\u001b[0m\u001b[0;34m+\u001b[0m\u001b[0;34m\"/0_myIndexList.res\"\u001b[0m\u001b[0;34m,\u001b[0m \u001b[0;34m\"w\"\u001b[0m\u001b[0;34m)\u001b[0m\u001b[0;34m\u001b[0m\u001b[0m\n\u001b[0m\u001b[1;32m      2\u001b[0m \u001b[0;32mfor\u001b[0m \u001b[0mline\u001b[0m \u001b[0;32min\u001b[0m \u001b[0msorted_dic\u001b[0m\u001b[0;34m:\u001b[0m\u001b[0;34m\u001b[0m\u001b[0m\n\u001b[1;32m      3\u001b[0m     \u001b[0mfileOpen\u001b[0m\u001b[0;34m.\u001b[0m\u001b[0mwrite\u001b[0m\u001b[0;34m(\u001b[0m\u001b[0mstr\u001b[0m\u001b[0;34m(\u001b[0m\u001b[0mline\u001b[0m\u001b[0;34m)\u001b[0m \u001b[0;34m+\u001b[0m \u001b[0;34m\"\\n\"\u001b[0m\u001b[0;34m)\u001b[0m\u001b[0;34m\u001b[0m\u001b[0m\n\u001b[1;32m      4\u001b[0m \u001b[0mfileOpen\u001b[0m\u001b[0;34m.\u001b[0m\u001b[0mclose\u001b[0m\u001b[0;34m(\u001b[0m\u001b[0;34m)\u001b[0m\u001b[0;34m\u001b[0m\u001b[0m\n",
      "\u001b[0;31mFileNotFoundError\u001b[0m: [Errno 2] No such file or directory: '/Volumes/macOs/Users/dmy/Documents/AhrarNews/0_myIndexList.res'"
     ]
    }
   ],
   "source": [
    "fileOpen= open(myPath+\"/0_myIndexList.res\", \"w\")\n",
    "for line in sorted_dic:\n",
    "    fileOpen.write(str(line) + \"\\n\")\n",
    "fileOpen.close()"
   ]
  },
  {
   "cell_type": "code",
   "execution_count": 13,
   "metadata": {},
   "outputs": [],
   "source": [
    "import glob\n",
    "\n",
    "for filename in glob.iglob('src/**/*.c', recursive=True):\n",
    "    print(filename)"
   ]
  },
  {
   "cell_type": "code",
   "execution_count": null,
   "metadata": {},
   "outputs": [],
   "source": []
  }
 ],
 "metadata": {
  "celltoolbar": "Tags",
  "kernelspec": {
   "display_name": "Python 3",
   "language": "python",
   "name": "python3"
  },
  "language_info": {
   "codemirror_mode": {
    "name": "ipython",
    "version": 3
   },
   "file_extension": ".py",
   "mimetype": "text/x-python",
   "name": "python",
   "nbconvert_exporter": "python",
   "pygments_lexer": "ipython3",
   "version": "3.6.5"
  }
 },
 "nbformat": 4,
 "nbformat_minor": 2
}
